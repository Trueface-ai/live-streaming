{
 "cells": [
  {
   "cell_type": "code",
   "execution_count": null,
   "metadata": {},
   "outputs": [],
   "source": [
    "#!/usr/bin/env python\n",
    "import traceback\n",
    "import multiprocessing\n",
    "from multiprocessing import Process, Queue\n",
    "from time import sleep\n",
    "from flask import Flask, render_template, Response\n",
    "import argparse\n",
    "import json\n",
    "import requests\n",
    "import threading\n",
    "import time\n",
    "import base64\n",
    "import cv2\n",
    "\n",
    "def create_server():\n",
    "\n",
    "    app = Flask(__name__)\n",
    "\n",
    "    image = None\n",
    "\n",
    "    def get_image():\n",
    "        global image\n",
    "        q = app.config.get('q')\n",
    "        while True:\n",
    "            try:\n",
    "                img = q.get()\n",
    "                image = img\n",
    "            except Exception as e:\n",
    "                print(e)\n",
    "\n",
    "    def gen():\n",
    "        q = app.config.get('q')\n",
    "        while True:\n",
    "            try:\n",
    "                img = q.get()\n",
    "                encode_param = [int(cv2.IMWRITE_JPEG_QUALITY), 50]\n",
    "                img = cv2.imencode('.jpg', img, encode_param)[1].tostring()\n",
    "                yield (b'--frame\\r\\n'\n",
    "                       b'Content-Type: image/jpeg\\r\\n\\r\\n' + img + b'\\r\\n')\n",
    "            except Exception as e:\n",
    "                print(e)\n",
    "                \n",
    "    @app.route('/')\n",
    "    def video_feed():\n",
    "        return Response(gen(),\n",
    "                        mimetype='multipart/x-mixed-replace; boundary=frame')\n",
    "    return app"
   ]
  },
  {
   "cell_type": "code",
   "execution_count": null,
   "metadata": {},
   "outputs": [],
   "source": [
    "def start_server(port, q):\n",
    "    \"\"\"starts a simple MJPEG streaming server\"\"\"\n",
    "    app = create_server()\n",
    "    app.config['q'] = q\n",
    "    p = Process(target=app.run, kwargs={\"host\":'0.0.0.0',\"port\":port, \"threaded\":True})\n",
    "    p.daemon = True\n",
    "    p.start()"
   ]
  },
  {
   "cell_type": "code",
   "execution_count": null,
   "metadata": {},
   "outputs": [],
   "source": [
    "vcap = cv2.VideoCapture(0)\n",
    "streaming_q = Queue(maxsize=10)\n",
    "start_server(8086, streaming_q)\n",
    "while(True):\n",
    "    _, frame = vcap.read()\n",
    "    streaming_q.put(frame)"
   ]
  },
  {
   "cell_type": "code",
   "execution_count": null,
   "metadata": {},
   "outputs": [],
   "source": []
  }
 ],
 "metadata": {
  "kernelspec": {
   "display_name": "Python 3",
   "language": "python",
   "name": "python3"
  },
  "language_info": {
   "codemirror_mode": {
    "name": "ipython",
    "version": 3
   },
   "file_extension": ".py",
   "mimetype": "text/x-python",
   "name": "python",
   "nbconvert_exporter": "python",
   "pygments_lexer": "ipython3",
   "version": "3.6.9"
  }
 },
 "nbformat": 4,
 "nbformat_minor": 2
}
